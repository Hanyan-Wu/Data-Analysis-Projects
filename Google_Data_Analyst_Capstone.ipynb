{
  "cells": [
    {
      "cell_type": "markdown",
      "metadata": {
        "id": "view-in-github",
        "colab_type": "text"
      },
      "source": [
        "<a href=\"https://colab.research.google.com/github/Hanyan-Wu/Data-Analysis-Projects/blob/main/Google_Data_Analyst_Capstone.ipynb\" target=\"_parent\"><img src=\"https://colab.research.google.com/assets/colab-badge.svg\" alt=\"Open In Colab\"/></a>"
      ]
    },
    {
      "cell_type": "markdown",
      "id": "6890160e",
      "metadata": {
        "id": "6890160e"
      },
      "source": [
        "Created by Hanyan WU, 09/09/2023"
      ]
    },
    {
      "cell_type": "markdown",
      "id": "a3a9ab89",
      "metadata": {
        "id": "a3a9ab89"
      },
      "source": [
        "# Case Study: How does a bike-share navigate speedy success? {-}"
      ]
    },
    {
      "cell_type": "markdown",
      "id": "fce0ea1f",
      "metadata": {
        "id": "fce0ea1f"
      },
      "source": [
        "# Background Information"
      ]
    },
    {
      "cell_type": "markdown",
      "id": "aae5135b",
      "metadata": {
        "id": "aae5135b"
      },
      "source": [
        "## Scenario"
      ]
    },
    {
      "cell_type": "markdown",
      "id": "6d8867f1",
      "metadata": {
        "id": "6d8867f1"
      },
      "source": [
        "You are a junior data analyst working in the marketing analyst team at Cyclistic, a bike-share company in Chicago. The director of marketing believes the company’s future success depends on maximizing the number of annual memberships.\n",
        "\n",
        "Therefore, your team wants to understand **how casual riders and annual members use Cyclistic bikes differently**. From these insights, your team will **design a new marketing strategy to convert casual riders into annual members**.\n",
        "\n",
        "But first, Cyclistic executives must approve your recommendations, so they must be backed up with **compelling data insights** and **professional data visualizations**."
      ]
    },
    {
      "cell_type": "markdown",
      "id": "eccdac33",
      "metadata": {
        "id": "eccdac33"
      },
      "source": [
        "## About the company"
      ]
    },
    {
      "cell_type": "markdown",
      "id": "7d85093b",
      "metadata": {
        "id": "7d85093b"
      },
      "source": [
        "In 2016, Cyclistic launched a successful bike-share offering. Since then, the program has grown to a fleet of 5,824 bicycles that are geotracked and locked into a network of 692 stations across Chicago. The bikes can be unlocked from one station and returned to any other station in the system anytime.\n",
        "\n",
        "Until now, Cyclistic’s marketing strategy relied on **building general awareness** and **appealing to broad consumer segments**. One approach that helped make these things possible was the **flexibility of its pricing plans**: single-ride passes, full-day passes, and annual memberships.\n",
        "\n",
        "Customers who purchase single-ride or full-day passes are referred to as casual riders. Customers who purchase annual memberships are Cyclistic members.\n",
        "\n",
        "Cyclistic’s finance analysts have concluded that **annual members are much more profitable than casual riders**. Although the pricing flexibility helps Cyclistic attract more customers, Moreno believes that **maximizing the number of annual members** will be key to future growth. Rather than creating a marketing campaign that targets all-new customers, Moreno believes there is a very good chance to convert casual riders into members. She notes that casual riders are already aware of the Cyclistic program and have chosen Cyclistic for their mobility needs.\n",
        "\n",
        "Moreno has set a clear goal: Design marketing strategies aimed at converting casual riders into annual members.\n",
        "\n",
        "In order to do that, however, the marketing analyst team needs to better understand **how annual members and casual riders differ**, **why casual riders would buy a membership**, and **how digital media could affect their marketing tactics**.\n",
        "\n",
        "Moreno and her team are interested in analyzing the Cyclistic historical bike trip data to identify trends."
      ]
    },
    {
      "cell_type": "markdown",
      "id": "de140c3d",
      "metadata": {
        "id": "de140c3d"
      },
      "source": [
        "# Ask"
      ]
    },
    {
      "cell_type": "markdown",
      "id": "8f01e88b",
      "metadata": {
        "id": "8f01e88b"
      },
      "source": [
        "## Questions"
      ]
    },
    {
      "cell_type": "markdown",
      "id": "0b65e328",
      "metadata": {
        "id": "0b65e328"
      },
      "source": [
        "1. How do annual members and casual riders use Cyclistic bikes differently?\n",
        "2. Why would casual riders buy Cyclistic annual memberships?\n",
        "3. How can Cyclistic use digital media to influence casual riders to become members?"
      ]
    },
    {
      "cell_type": "markdown",
      "id": "06b63ee6",
      "metadata": {
        "id": "06b63ee6"
      },
      "source": [
        "## Task"
      ]
    },
    {
      "cell_type": "markdown",
      "id": "847f27e1",
      "metadata": {
        "id": "847f27e1"
      },
      "source": [
        "Moreno has assigned you the first question to answer:\n",
        "\n",
        "**How do annual members and casual riders use Cyclistic bikes differently?**\n",
        "\n",
        "You will produce a report with the following deliverables:\n",
        "1. A clear statement of the business task\n",
        "2. A description of all data sources used\n",
        "3. Documentation of any cleaning or manipulation of data\n",
        "4. A summary of your analysis\n",
        "5. Supporting visualizations and key findings\n",
        "6. Your top three recommendations based on your analysis"
      ]
    },
    {
      "cell_type": "markdown",
      "id": "1bf15baa",
      "metadata": {
        "id": "1bf15baa"
      },
      "source": [
        "# Prepare"
      ]
    },
    {
      "cell_type": "markdown",
      "id": "a48012e1",
      "metadata": {
        "id": "a48012e1"
      },
      "source": [
        "## Load Data"
      ]
    },
    {
      "cell_type": "code",
      "execution_count": null,
      "id": "66ddedf0",
      "metadata": {
        "id": "66ddedf0"
      },
      "outputs": [],
      "source": [
        "import io\n",
        "import requests"
      ]
    },
    {
      "cell_type": "code",
      "execution_count": null,
      "id": "6aef94cc",
      "metadata": {
        "id": "6aef94cc"
      },
      "outputs": [],
      "source": [
        "import pandas as pd\n",
        "import zipfile"
      ]
    },
    {
      "cell_type": "code",
      "execution_count": null,
      "id": "a2cef3f9",
      "metadata": {
        "id": "a2cef3f9",
        "outputId": "b58a1dc9-5f18-4202-aeab-77fefd260f55"
      },
      "outputs": [
        {
          "data": {
            "text/plain": [
              "['202201-divvy-tripdata',\n",
              " '202202-divvy-tripdata',\n",
              " '202203-divvy-tripdata',\n",
              " '202204-divvy-tripdata',\n",
              " '202205-divvy-tripdata',\n",
              " '202206-divvy-tripdata',\n",
              " '202207-divvy-tripdata',\n",
              " '202208-divvy-tripdata',\n",
              " '202209-divvy-tripdata',\n",
              " '202210-divvy-tripdata',\n",
              " '202211-divvy-tripdata',\n",
              " '202212-divvy-tripdata']"
            ]
          },
          "execution_count": 44,
          "metadata": {},
          "output_type": "execute_result"
        }
      ],
      "source": [
        "# Create a list of zip file names\n",
        "\n",
        "## Initialize list\n",
        "name_list = []\n",
        "\n",
        "## Loop through 12 months\n",
        "for mon in range(1,13):\n",
        "    name = \"2022\" + \"0\"*(1-mon//10) + str(mon) + \"-divvy-tripdata\"\n",
        "    name_list.append(name)\n",
        "\n",
        "name_list"
      ]
    },
    {
      "cell_type": "code",
      "execution_count": null,
      "id": "50f33b6f",
      "metadata": {
        "id": "50f33b6f",
        "outputId": "2e07fe32-a621-46ab-9583-6c91f9d50a52"
      },
      "outputs": [
        {
          "data": {
            "text/plain": [
              "['202201-divvy-tripdata',\n",
              " '202202-divvy-tripdata',\n",
              " '202203-divvy-tripdata',\n",
              " '202204-divvy-tripdata',\n",
              " '202205-divvy-tripdata',\n",
              " '202206-divvy-tripdata',\n",
              " '202207-divvy-tripdata',\n",
              " '202208-divvy-tripdata',\n",
              " '202209-divvy-publictripdata',\n",
              " '202210-divvy-tripdata',\n",
              " '202211-divvy-tripdata',\n",
              " '202212-divvy-tripdata']"
            ]
          },
          "execution_count": 45,
          "metadata": {},
          "output_type": "execute_result"
        }
      ],
      "source": [
        "# Create a list of csv file names\n",
        "\n",
        "## Initialize list\n",
        "csv_list = name_list.copy()\n",
        "\n",
        "## September csv file has a different name\n",
        "csv_list[8] = \"202209-divvy-publictripdata\"\n",
        "\n",
        "csv_list"
      ]
    },
    {
      "cell_type": "code",
      "execution_count": null,
      "id": "e7da9b54",
      "metadata": {
        "id": "e7da9b54"
      },
      "outputs": [],
      "source": [
        "# Define load csv function\n",
        "def load_csv(name):\n",
        "\n",
        "    index = name_list.index(name)\n",
        "\n",
        "    # Find the zipfile\n",
        "    url = \"https://divvy-tripdata.s3.amazonaws.com/\" + name + \".zip\"\n",
        "    # Download zipfile\n",
        "    zip_content = requests.get(url).content\n",
        "\n",
        "    # Read the csv file inside the zip file\n",
        "    with zipfile.ZipFile(io.BytesIO(zip_content)) as z:\n",
        "        # Open zip from memory\n",
        "        with z.open( csv_list[index] + \".csv\") as csv_file:\n",
        "            # Load csv into dataframe\n",
        "            df = pd.read_csv(csv_file)\n",
        "\n",
        "    return df"
      ]
    },
    {
      "cell_type": "code",
      "execution_count": null,
      "id": "266e7003",
      "metadata": {
        "collapsed": true,
        "id": "266e7003",
        "outputId": "0b7e32f6-027c-4c32-8fba-018346f0f9b9"
      },
      "outputs": [
        {
          "name": "stdout",
          "output_type": "stream",
          "text": [
            "0\n",
            "1\n",
            "2\n",
            "3\n",
            "4\n",
            "5\n",
            "6\n",
            "7\n",
            "8\n",
            "9\n",
            "10\n",
            "11\n"
          ]
        }
      ],
      "source": [
        "# Collect all the dataframes\n",
        "## Initialize list of Dataframes\n",
        "df_list = []\n",
        "\n",
        "## Loop through the months\n",
        "for name in name_list:\n",
        "    df_list.append(load_csv(name))"
      ]
    },
    {
      "cell_type": "markdown",
      "id": "ee5729cf",
      "metadata": {
        "id": "ee5729cf"
      },
      "source": [
        "## Merge Data"
      ]
    },
    {
      "cell_type": "code",
      "execution_count": null,
      "id": "e706a388",
      "metadata": {
        "id": "e706a388",
        "outputId": "102e05f3-ec50-4444-c5c9-e51c5a0d79b0"
      },
      "outputs": [
        {
          "data": {
            "text/html": [
              "<div>\n",
              "<style scoped>\n",
              "    .dataframe tbody tr th:only-of-type {\n",
              "        vertical-align: middle;\n",
              "    }\n",
              "\n",
              "    .dataframe tbody tr th {\n",
              "        vertical-align: top;\n",
              "    }\n",
              "\n",
              "    .dataframe thead th {\n",
              "        text-align: right;\n",
              "    }\n",
              "</style>\n",
              "<table border=\"1\" class=\"dataframe\">\n",
              "  <thead>\n",
              "    <tr style=\"text-align: right;\">\n",
              "      <th></th>\n",
              "      <th>ride_id</th>\n",
              "      <th>rideable_type</th>\n",
              "      <th>started_at</th>\n",
              "      <th>ended_at</th>\n",
              "      <th>start_station_name</th>\n",
              "      <th>start_station_id</th>\n",
              "      <th>end_station_name</th>\n",
              "      <th>end_station_id</th>\n",
              "      <th>start_lat</th>\n",
              "      <th>start_lng</th>\n",
              "      <th>end_lat</th>\n",
              "      <th>end_lng</th>\n",
              "      <th>member_casual</th>\n",
              "    </tr>\n",
              "  </thead>\n",
              "  <tbody>\n",
              "    <tr>\n",
              "      <th>0</th>\n",
              "      <td>C2F7DD78E82EC875</td>\n",
              "      <td>electric_bike</td>\n",
              "      <td>2022-01-13 11:59:47</td>\n",
              "      <td>2022-01-13 12:02:44</td>\n",
              "      <td>Glenwood Ave &amp; Touhy Ave</td>\n",
              "      <td>525</td>\n",
              "      <td>Clark St &amp; Touhy Ave</td>\n",
              "      <td>RP-007</td>\n",
              "      <td>42.012800</td>\n",
              "      <td>-87.665906</td>\n",
              "      <td>42.012560</td>\n",
              "      <td>-87.674367</td>\n",
              "      <td>casual</td>\n",
              "    </tr>\n",
              "    <tr>\n",
              "      <th>1</th>\n",
              "      <td>A6CF8980A652D272</td>\n",
              "      <td>electric_bike</td>\n",
              "      <td>2022-01-10 08:41:56</td>\n",
              "      <td>2022-01-10 08:46:17</td>\n",
              "      <td>Glenwood Ave &amp; Touhy Ave</td>\n",
              "      <td>525</td>\n",
              "      <td>Clark St &amp; Touhy Ave</td>\n",
              "      <td>RP-007</td>\n",
              "      <td>42.012763</td>\n",
              "      <td>-87.665967</td>\n",
              "      <td>42.012560</td>\n",
              "      <td>-87.674367</td>\n",
              "      <td>casual</td>\n",
              "    </tr>\n",
              "    <tr>\n",
              "      <th>2</th>\n",
              "      <td>BD0F91DFF741C66D</td>\n",
              "      <td>classic_bike</td>\n",
              "      <td>2022-01-25 04:53:40</td>\n",
              "      <td>2022-01-25 04:58:01</td>\n",
              "      <td>Sheffield Ave &amp; Fullerton Ave</td>\n",
              "      <td>TA1306000016</td>\n",
              "      <td>Greenview Ave &amp; Fullerton Ave</td>\n",
              "      <td>TA1307000001</td>\n",
              "      <td>41.925602</td>\n",
              "      <td>-87.653708</td>\n",
              "      <td>41.925330</td>\n",
              "      <td>-87.665800</td>\n",
              "      <td>member</td>\n",
              "    </tr>\n",
              "    <tr>\n",
              "      <th>3</th>\n",
              "      <td>CBB80ED419105406</td>\n",
              "      <td>classic_bike</td>\n",
              "      <td>2022-01-04 00:18:04</td>\n",
              "      <td>2022-01-04 00:33:00</td>\n",
              "      <td>Clark St &amp; Bryn Mawr Ave</td>\n",
              "      <td>KA1504000151</td>\n",
              "      <td>Paulina St &amp; Montrose Ave</td>\n",
              "      <td>TA1309000021</td>\n",
              "      <td>41.983593</td>\n",
              "      <td>-87.669154</td>\n",
              "      <td>41.961507</td>\n",
              "      <td>-87.671387</td>\n",
              "      <td>casual</td>\n",
              "    </tr>\n",
              "    <tr>\n",
              "      <th>4</th>\n",
              "      <td>DDC963BFDDA51EEA</td>\n",
              "      <td>classic_bike</td>\n",
              "      <td>2022-01-20 01:31:10</td>\n",
              "      <td>2022-01-20 01:37:12</td>\n",
              "      <td>Michigan Ave &amp; Jackson Blvd</td>\n",
              "      <td>TA1309000002</td>\n",
              "      <td>State St &amp; Randolph St</td>\n",
              "      <td>TA1305000029</td>\n",
              "      <td>41.877850</td>\n",
              "      <td>-87.624080</td>\n",
              "      <td>41.884621</td>\n",
              "      <td>-87.627834</td>\n",
              "      <td>member</td>\n",
              "    </tr>\n",
              "    <tr>\n",
              "      <th>...</th>\n",
              "      <td>...</td>\n",
              "      <td>...</td>\n",
              "      <td>...</td>\n",
              "      <td>...</td>\n",
              "      <td>...</td>\n",
              "      <td>...</td>\n",
              "      <td>...</td>\n",
              "      <td>...</td>\n",
              "      <td>...</td>\n",
              "      <td>...</td>\n",
              "      <td>...</td>\n",
              "      <td>...</td>\n",
              "      <td>...</td>\n",
              "    </tr>\n",
              "    <tr>\n",
              "      <th>5667712</th>\n",
              "      <td>43ABEE85B6E15DCA</td>\n",
              "      <td>classic_bike</td>\n",
              "      <td>2022-12-05 06:51:04</td>\n",
              "      <td>2022-12-05 06:54:48</td>\n",
              "      <td>Sangamon St &amp; Washington Blvd</td>\n",
              "      <td>13409</td>\n",
              "      <td>Peoria St &amp; Jackson Blvd</td>\n",
              "      <td>13158</td>\n",
              "      <td>41.883165</td>\n",
              "      <td>-87.651100</td>\n",
              "      <td>41.877642</td>\n",
              "      <td>-87.649618</td>\n",
              "      <td>member</td>\n",
              "    </tr>\n",
              "    <tr>\n",
              "      <th>5667713</th>\n",
              "      <td>F041C89A3D1F0270</td>\n",
              "      <td>electric_bike</td>\n",
              "      <td>2022-12-14 17:06:28</td>\n",
              "      <td>2022-12-14 17:19:27</td>\n",
              "      <td>Bernard St &amp; Elston Ave</td>\n",
              "      <td>18016</td>\n",
              "      <td>Seeley Ave &amp; Roscoe St</td>\n",
              "      <td>13144</td>\n",
              "      <td>41.949980</td>\n",
              "      <td>-87.714019</td>\n",
              "      <td>41.943403</td>\n",
              "      <td>-87.679618</td>\n",
              "      <td>member</td>\n",
              "    </tr>\n",
              "    <tr>\n",
              "      <th>5667714</th>\n",
              "      <td>A2BECB88430BE156</td>\n",
              "      <td>classic_bike</td>\n",
              "      <td>2022-12-08 16:27:47</td>\n",
              "      <td>2022-12-08 16:32:20</td>\n",
              "      <td>Wacker Dr &amp; Washington St</td>\n",
              "      <td>KA1503000072</td>\n",
              "      <td>Green St &amp; Madison St</td>\n",
              "      <td>TA1307000120</td>\n",
              "      <td>41.883143</td>\n",
              "      <td>-87.637242</td>\n",
              "      <td>41.881859</td>\n",
              "      <td>-87.649264</td>\n",
              "      <td>member</td>\n",
              "    </tr>\n",
              "    <tr>\n",
              "      <th>5667715</th>\n",
              "      <td>37B392960E566F58</td>\n",
              "      <td>classic_bike</td>\n",
              "      <td>2022-12-28 09:37:38</td>\n",
              "      <td>2022-12-28 09:41:34</td>\n",
              "      <td>Sangamon St &amp; Washington Blvd</td>\n",
              "      <td>13409</td>\n",
              "      <td>Peoria St &amp; Jackson Blvd</td>\n",
              "      <td>13158</td>\n",
              "      <td>41.883165</td>\n",
              "      <td>-87.651100</td>\n",
              "      <td>41.877642</td>\n",
              "      <td>-87.649618</td>\n",
              "      <td>member</td>\n",
              "    </tr>\n",
              "    <tr>\n",
              "      <th>5667716</th>\n",
              "      <td>2DD1587210BA45AE</td>\n",
              "      <td>classic_bike</td>\n",
              "      <td>2022-12-09 00:27:25</td>\n",
              "      <td>2022-12-09 00:35:28</td>\n",
              "      <td>Southport Ave &amp; Waveland Ave</td>\n",
              "      <td>13235</td>\n",
              "      <td>Seeley Ave &amp; Roscoe St</td>\n",
              "      <td>13144</td>\n",
              "      <td>41.948150</td>\n",
              "      <td>-87.663940</td>\n",
              "      <td>41.943403</td>\n",
              "      <td>-87.679618</td>\n",
              "      <td>casual</td>\n",
              "    </tr>\n",
              "  </tbody>\n",
              "</table>\n",
              "<p>5667717 rows × 13 columns</p>\n",
              "</div>"
            ],
            "text/plain": [
              "                  ride_id  rideable_type           started_at  \\\n",
              "0        C2F7DD78E82EC875  electric_bike  2022-01-13 11:59:47   \n",
              "1        A6CF8980A652D272  electric_bike  2022-01-10 08:41:56   \n",
              "2        BD0F91DFF741C66D   classic_bike  2022-01-25 04:53:40   \n",
              "3        CBB80ED419105406   classic_bike  2022-01-04 00:18:04   \n",
              "4        DDC963BFDDA51EEA   classic_bike  2022-01-20 01:31:10   \n",
              "...                   ...            ...                  ...   \n",
              "5667712  43ABEE85B6E15DCA   classic_bike  2022-12-05 06:51:04   \n",
              "5667713  F041C89A3D1F0270  electric_bike  2022-12-14 17:06:28   \n",
              "5667714  A2BECB88430BE156   classic_bike  2022-12-08 16:27:47   \n",
              "5667715  37B392960E566F58   classic_bike  2022-12-28 09:37:38   \n",
              "5667716  2DD1587210BA45AE   classic_bike  2022-12-09 00:27:25   \n",
              "\n",
              "                    ended_at             start_station_name start_station_id  \\\n",
              "0        2022-01-13 12:02:44       Glenwood Ave & Touhy Ave              525   \n",
              "1        2022-01-10 08:46:17       Glenwood Ave & Touhy Ave              525   \n",
              "2        2022-01-25 04:58:01  Sheffield Ave & Fullerton Ave     TA1306000016   \n",
              "3        2022-01-04 00:33:00       Clark St & Bryn Mawr Ave     KA1504000151   \n",
              "4        2022-01-20 01:37:12    Michigan Ave & Jackson Blvd     TA1309000002   \n",
              "...                      ...                            ...              ...   \n",
              "5667712  2022-12-05 06:54:48  Sangamon St & Washington Blvd            13409   \n",
              "5667713  2022-12-14 17:19:27        Bernard St & Elston Ave            18016   \n",
              "5667714  2022-12-08 16:32:20      Wacker Dr & Washington St     KA1503000072   \n",
              "5667715  2022-12-28 09:41:34  Sangamon St & Washington Blvd            13409   \n",
              "5667716  2022-12-09 00:35:28   Southport Ave & Waveland Ave            13235   \n",
              "\n",
              "                      end_station_name end_station_id  start_lat  start_lng  \\\n",
              "0                 Clark St & Touhy Ave         RP-007  42.012800 -87.665906   \n",
              "1                 Clark St & Touhy Ave         RP-007  42.012763 -87.665967   \n",
              "2        Greenview Ave & Fullerton Ave   TA1307000001  41.925602 -87.653708   \n",
              "3            Paulina St & Montrose Ave   TA1309000021  41.983593 -87.669154   \n",
              "4               State St & Randolph St   TA1305000029  41.877850 -87.624080   \n",
              "...                                ...            ...        ...        ...   \n",
              "5667712       Peoria St & Jackson Blvd          13158  41.883165 -87.651100   \n",
              "5667713         Seeley Ave & Roscoe St          13144  41.949980 -87.714019   \n",
              "5667714          Green St & Madison St   TA1307000120  41.883143 -87.637242   \n",
              "5667715       Peoria St & Jackson Blvd          13158  41.883165 -87.651100   \n",
              "5667716         Seeley Ave & Roscoe St          13144  41.948150 -87.663940   \n",
              "\n",
              "           end_lat    end_lng member_casual  \n",
              "0        42.012560 -87.674367        casual  \n",
              "1        42.012560 -87.674367        casual  \n",
              "2        41.925330 -87.665800        member  \n",
              "3        41.961507 -87.671387        casual  \n",
              "4        41.884621 -87.627834        member  \n",
              "...            ...        ...           ...  \n",
              "5667712  41.877642 -87.649618        member  \n",
              "5667713  41.943403 -87.679618        member  \n",
              "5667714  41.881859 -87.649264        member  \n",
              "5667715  41.877642 -87.649618        member  \n",
              "5667716  41.943403 -87.679618        casual  \n",
              "\n",
              "[5667717 rows x 13 columns]"
            ]
          },
          "execution_count": 52,
          "metadata": {},
          "output_type": "execute_result"
        }
      ],
      "source": [
        "tripdata = pd.concat(df_list, ignore_index = True)\n",
        "tripdata"
      ]
    },
    {
      "cell_type": "code",
      "execution_count": null,
      "id": "44a3caa0",
      "metadata": {
        "id": "44a3caa0"
      },
      "outputs": [],
      "source": [
        "# # Output and save locally\n",
        "# tripdata.to_csv('D:/Coursera/Google Data Analytics/08 Capstone/Data/Tripdata.csv', index = False)"
      ]
    },
    {
      "cell_type": "markdown",
      "id": "c7fb105d",
      "metadata": {
        "id": "c7fb105d"
      },
      "source": [
        "This dataframe contains the `cyclist trip data` ranging from `Jan 2022` to `Dec 2022`. It has `5,667,717` lines of entry and `13` variables stating the bicycle type,riding time, riding start and end station, latitude and longtitude of stations, the customer type, etc."
      ]
    },
    {
      "cell_type": "markdown",
      "id": "3d3b7704",
      "metadata": {
        "id": "3d3b7704"
      },
      "source": [
        "# Process"
      ]
    },
    {
      "cell_type": "markdown",
      "id": "70099dd8",
      "metadata": {
        "id": "70099dd8"
      },
      "source": [
        "## Credibility Check"
      ]
    },
    {
      "cell_type": "code",
      "execution_count": null,
      "id": "47846e24",
      "metadata": {
        "scrolled": true,
        "id": "47846e24",
        "outputId": "10c549b6-9d78-43c8-b50d-0108ae02fa28"
      },
      "outputs": [
        {
          "data": {
            "text/plain": [
              "(5667717, 13)"
            ]
          },
          "execution_count": 56,
          "metadata": {},
          "output_type": "execute_result"
        }
      ],
      "source": [
        "tripdata.shape"
      ]
    },
    {
      "cell_type": "code",
      "execution_count": null,
      "id": "c24b4429",
      "metadata": {
        "id": "c24b4429",
        "outputId": "c35398c5-6865-418c-ecb2-b313f766e7e0"
      },
      "outputs": [
        {
          "data": {
            "text/plain": [
              "0"
            ]
          },
          "execution_count": 63,
          "metadata": {},
          "output_type": "execute_result"
        }
      ],
      "source": [
        "# Remove duplicates, if any\n",
        "tripdata.duplicated().sum()"
      ]
    },
    {
      "cell_type": "markdown",
      "id": "3d59b8aa",
      "metadata": {
        "id": "3d59b8aa"
      },
      "source": [
        "Looks like all entries are unique, no duplicates."
      ]
    },
    {
      "cell_type": "code",
      "execution_count": null,
      "id": "b55dd839",
      "metadata": {
        "id": "b55dd839",
        "outputId": "37e4fa7d-d599-4a1b-efc9-cbd6cf12495a"
      },
      "outputs": [
        {
          "name": "stdout",
          "output_type": "stream",
          "text": [
            "<class 'pandas.core.frame.DataFrame'>\n",
            "RangeIndex: 5667717 entries, 0 to 5667716\n",
            "Data columns (total 13 columns):\n",
            " #   Column              Dtype  \n",
            "---  ------              -----  \n",
            " 0   ride_id             object \n",
            " 1   rideable_type       object \n",
            " 2   started_at          object \n",
            " 3   ended_at            object \n",
            " 4   start_station_name  object \n",
            " 5   start_station_id    object \n",
            " 6   end_station_name    object \n",
            " 7   end_station_id      object \n",
            " 8   start_lat           float64\n",
            " 9   start_lng           float64\n",
            " 10  end_lat             float64\n",
            " 11  end_lng             float64\n",
            " 12  member_casual       object \n",
            "dtypes: float64(4), object(9)\n",
            "memory usage: 562.1+ MB\n"
          ]
        }
      ],
      "source": [
        "# Check the data type of columns\n",
        "tripdata.info()"
      ]
    },
    {
      "cell_type": "code",
      "execution_count": null,
      "id": "2ff3acc6",
      "metadata": {
        "id": "2ff3acc6",
        "outputId": "89b29c14-0d63-43f8-e4b6-2299fa1ab150"
      },
      "outputs": [
        {
          "data": {
            "text/html": [
              "<div>\n",
              "<style scoped>\n",
              "    .dataframe tbody tr th:only-of-type {\n",
              "        vertical-align: middle;\n",
              "    }\n",
              "\n",
              "    .dataframe tbody tr th {\n",
              "        vertical-align: top;\n",
              "    }\n",
              "\n",
              "    .dataframe thead th {\n",
              "        text-align: right;\n",
              "    }\n",
              "</style>\n",
              "<table border=\"1\" class=\"dataframe\">\n",
              "  <thead>\n",
              "    <tr style=\"text-align: right;\">\n",
              "      <th></th>\n",
              "      <th>start_lat</th>\n",
              "      <th>start_lng</th>\n",
              "      <th>end_lat</th>\n",
              "      <th>end_lng</th>\n",
              "    </tr>\n",
              "  </thead>\n",
              "  <tbody>\n",
              "    <tr>\n",
              "      <th>count</th>\n",
              "      <td>5.667717e+06</td>\n",
              "      <td>5.667717e+06</td>\n",
              "      <td>5.661859e+06</td>\n",
              "      <td>5.661859e+06</td>\n",
              "    </tr>\n",
              "    <tr>\n",
              "      <th>mean</th>\n",
              "      <td>4.190222e+01</td>\n",
              "      <td>-8.764783e+01</td>\n",
              "      <td>4.190242e+01</td>\n",
              "      <td>-8.764790e+01</td>\n",
              "    </tr>\n",
              "    <tr>\n",
              "      <th>std</th>\n",
              "      <td>4.626109e-02</td>\n",
              "      <td>2.999925e-02</td>\n",
              "      <td>6.805821e-02</td>\n",
              "      <td>1.082985e-01</td>\n",
              "    </tr>\n",
              "    <tr>\n",
              "      <th>min</th>\n",
              "      <td>4.164000e+01</td>\n",
              "      <td>-8.784000e+01</td>\n",
              "      <td>0.000000e+00</td>\n",
              "      <td>-8.814000e+01</td>\n",
              "    </tr>\n",
              "    <tr>\n",
              "      <th>25%</th>\n",
              "      <td>4.188103e+01</td>\n",
              "      <td>-8.766154e+01</td>\n",
              "      <td>4.188103e+01</td>\n",
              "      <td>-8.766260e+01</td>\n",
              "    </tr>\n",
              "    <tr>\n",
              "      <th>50%</th>\n",
              "      <td>4.190000e+01</td>\n",
              "      <td>-8.764410e+01</td>\n",
              "      <td>4.190000e+01</td>\n",
              "      <td>-8.764414e+01</td>\n",
              "    </tr>\n",
              "    <tr>\n",
              "      <th>75%</th>\n",
              "      <td>4.193000e+01</td>\n",
              "      <td>-8.762957e+01</td>\n",
              "      <td>4.193000e+01</td>\n",
              "      <td>-8.762963e+01</td>\n",
              "    </tr>\n",
              "    <tr>\n",
              "      <th>max</th>\n",
              "      <td>4.563503e+01</td>\n",
              "      <td>-7.379648e+01</td>\n",
              "      <td>4.237000e+01</td>\n",
              "      <td>0.000000e+00</td>\n",
              "    </tr>\n",
              "  </tbody>\n",
              "</table>\n",
              "</div>"
            ],
            "text/plain": [
              "          start_lat     start_lng       end_lat       end_lng\n",
              "count  5.667717e+06  5.667717e+06  5.661859e+06  5.661859e+06\n",
              "mean   4.190222e+01 -8.764783e+01  4.190242e+01 -8.764790e+01\n",
              "std    4.626109e-02  2.999925e-02  6.805821e-02  1.082985e-01\n",
              "min    4.164000e+01 -8.784000e+01  0.000000e+00 -8.814000e+01\n",
              "25%    4.188103e+01 -8.766154e+01  4.188103e+01 -8.766260e+01\n",
              "50%    4.190000e+01 -8.764410e+01  4.190000e+01 -8.764414e+01\n",
              "75%    4.193000e+01 -8.762957e+01  4.193000e+01 -8.762963e+01\n",
              "max    4.563503e+01 -7.379648e+01  4.237000e+01  0.000000e+00"
            ]
          },
          "execution_count": 58,
          "metadata": {},
          "output_type": "execute_result"
        }
      ],
      "source": [
        "tripdata.describe()"
      ]
    },
    {
      "cell_type": "markdown",
      "id": "7dd54870",
      "metadata": {
        "id": "7dd54870"
      },
      "source": [
        "Within the 13 columns, there are 9 string variables and 4 numerical variables."
      ]
    },
    {
      "cell_type": "code",
      "execution_count": null,
      "id": "74d5f33e",
      "metadata": {
        "id": "74d5f33e",
        "outputId": "a4b9acbc-7f19-4388-dc86-fdde4551527e"
      },
      "outputs": [
        {
          "data": {
            "text/plain": [
              "ride_id                    0\n",
              "rideable_type              0\n",
              "started_at                 0\n",
              "ended_at                   0\n",
              "start_station_name    833064\n",
              "start_station_id      833064\n",
              "end_station_name      892742\n",
              "end_station_id        892742\n",
              "start_lat                  0\n",
              "start_lng                  0\n",
              "end_lat                 5858\n",
              "end_lng                 5858\n",
              "member_casual              0\n",
              "dtype: int64"
            ]
          },
          "execution_count": 59,
          "metadata": {},
          "output_type": "execute_result"
        }
      ],
      "source": [
        "# Check if there're nulls\n",
        "tripdata.isnull().sum()"
      ]
    },
    {
      "cell_type": "markdown",
      "id": "7aa707d6",
      "metadata": {
        "id": "7aa707d6"
      },
      "source": [
        "It seems that about 16% missing in the name and id of starting or ending station, but luckily the coordinates are mostly present, with only 0.1% missing.\n",
        "\n",
        "We are still able to calculate the approximate distance of the rides based on coordinates. To best utilize all data points, only drop the rows with NAs in columns `end_lat` and `end_lng`."
      ]
    },
    {
      "cell_type": "code",
      "execution_count": null,
      "id": "960c153a",
      "metadata": {
        "id": "960c153a"
      },
      "outputs": [],
      "source": [
        "tripdata.dropna(subset=[\"end_lat\", \"end_lng\"], inplace=True)"
      ]
    },
    {
      "cell_type": "code",
      "execution_count": null,
      "id": "03d9ca99",
      "metadata": {
        "id": "03d9ca99",
        "outputId": "c5561033-9f0e-4375-fee2-6a00807b4762"
      },
      "outputs": [
        {
          "data": {
            "text/plain": [
              "(5661859, 13)"
            ]
          },
          "execution_count": 65,
          "metadata": {},
          "output_type": "execute_result"
        }
      ],
      "source": [
        "tripdata.shape"
      ]
    },
    {
      "cell_type": "markdown",
      "id": "f3338412",
      "metadata": {
        "id": "f3338412"
      },
      "source": [
        "See that `5,858` lines of entry are dropped."
      ]
    },
    {
      "cell_type": "markdown",
      "id": "af13d2fd",
      "metadata": {
        "id": "af13d2fd"
      },
      "source": [
        "# Analyze"
      ]
    },
    {
      "cell_type": "markdown",
      "id": "8d61e0fa",
      "metadata": {
        "id": "8d61e0fa"
      },
      "source": [
        "## Data Transformation"
      ]
    },
    {
      "cell_type": "markdown",
      "id": "a3684f5a",
      "metadata": {
        "id": "a3684f5a"
      },
      "source": [
        "### Which DAY is it? - Generate `day_of_week`"
      ]
    },
    {
      "cell_type": "code",
      "execution_count": null,
      "id": "6bd2826e",
      "metadata": {
        "id": "6bd2826e"
      },
      "outputs": [],
      "source": [
        "# Determine the day of week based on the start time of the ride\n",
        "tripdata[\"day_of_week\"] = pd.to_datetime(tripdata[\"started_at\"]).dt.day_name()"
      ]
    },
    {
      "cell_type": "code",
      "execution_count": null,
      "id": "aa40e515",
      "metadata": {
        "id": "aa40e515",
        "outputId": "f6d26077-a5c5-4b1b-c3dc-d93fd63a9dbd"
      },
      "outputs": [
        {
          "data": {
            "text/plain": [
              "count      5661859\n",
              "unique           7\n",
              "top       Saturday\n",
              "freq        915263\n",
              "Name: day_of_week, dtype: object"
            ]
          },
          "execution_count": 68,
          "metadata": {},
          "output_type": "execute_result"
        }
      ],
      "source": [
        "tripdata[\"day_of_week\"].describe(include='all')"
      ]
    },
    {
      "cell_type": "markdown",
      "id": "73eeaa66",
      "metadata": {
        "id": "73eeaa66"
      },
      "source": [
        "### Is it during the RUSH HOUR? - Generate `start_hour` and `is_rush`"
      ]
    },
    {
      "cell_type": "code",
      "execution_count": null,
      "id": "3439a7c4",
      "metadata": {
        "id": "3439a7c4"
      },
      "outputs": [],
      "source": [
        "# Determine the hour of the day based on start time\n",
        "tripdata[\"start_hour\"] = pd.to_datetime(tripdata[\"started_at\"]).dt.hour"
      ]
    },
    {
      "cell_type": "code",
      "execution_count": null,
      "id": "f23d24c3",
      "metadata": {
        "id": "f23d24c3",
        "outputId": "b464e3b6-46f9-4fc7-998c-678670c0c39d"
      },
      "outputs": [
        {
          "data": {
            "text/plain": [
              "0    11\n",
              "1     8\n",
              "2     4\n",
              "3     0\n",
              "4     1\n",
              "5    18\n",
              "6    18\n",
              "7    12\n",
              "8     7\n",
              "9    15\n",
              "Name: start_hour, dtype: int64"
            ]
          },
          "execution_count": 72,
          "metadata": {},
          "output_type": "execute_result"
        }
      ],
      "source": [
        "tripdata[\"start_hour\"].head(10)"
      ]
    },
    {
      "cell_type": "code",
      "execution_count": null,
      "id": "4d8c8041",
      "metadata": {
        "id": "4d8c8041"
      },
      "outputs": [],
      "source": [
        "# If start in rush hours or not\n",
        "## Initially set all to 0 - not in rush hour\n",
        "tripdata[\"is_rush\"] = 0\n",
        "\n",
        "## Then see if the hour value falls into 7-9 and 16-18\n",
        "tripdata.loc[((tripdata[\"start_hour\"] >= 7) & (tripdata[\"start_hour\"] <= 9)) | ((tripdata[\"start_hour\"] >= 16) & (tripdata[\"start_hour\"] <= 18)), 'is_rush'] = 1"
      ]
    },
    {
      "cell_type": "code",
      "execution_count": null,
      "id": "74ec6396",
      "metadata": {
        "id": "74ec6396",
        "outputId": "749ab0e4-bd7c-4166-f238-1a4cc1860289"
      },
      "outputs": [
        {
          "data": {
            "text/plain": [
              "0    0\n",
              "1    1\n",
              "2    0\n",
              "3    0\n",
              "4    0\n",
              "5    1\n",
              "6    1\n",
              "7    0\n",
              "8    1\n",
              "9    0\n",
              "Name: is_rush, dtype: int64"
            ]
          },
          "execution_count": 75,
          "metadata": {},
          "output_type": "execute_result"
        }
      ],
      "source": [
        "tripdata[\"is_rush\"].head(10)"
      ]
    },
    {
      "cell_type": "markdown",
      "id": "75ba7305",
      "metadata": {
        "id": "75ba7305"
      },
      "source": [
        "### Which MONTH is it? - Generate `month`"
      ]
    },
    {
      "cell_type": "code",
      "execution_count": null,
      "id": "4626a08d",
      "metadata": {
        "id": "4626a08d"
      },
      "outputs": [],
      "source": [
        "# Generate the month variable based on start time\n",
        "tripdata[\"month\"] = pd.to_datetime(tripdata[\"started_at\"]).dt.month"
      ]
    },
    {
      "cell_type": "code",
      "execution_count": null,
      "id": "2859d098",
      "metadata": {
        "id": "2859d098",
        "outputId": "6dea4b2d-6dbf-40e1-e4a5-3850fb33ba25"
      },
      "outputs": [
        {
          "data": {
            "text/plain": [
              "count    5.661859e+06\n",
              "mean     7.112207e+00\n",
              "std      2.531593e+00\n",
              "min      1.000000e+00\n",
              "25%      5.000000e+00\n",
              "50%      7.000000e+00\n",
              "75%      9.000000e+00\n",
              "max      1.200000e+01\n",
              "Name: month, dtype: float64"
            ]
          },
          "execution_count": 79,
          "metadata": {},
          "output_type": "execute_result"
        }
      ],
      "source": [
        "tripdata[\"month\"].describe()"
      ]
    },
    {
      "cell_type": "markdown",
      "id": "a92cbd7b",
      "metadata": {
        "id": "a92cbd7b"
      },
      "source": [
        "### How long does the ride last? - Generate `duration`"
      ]
    },
    {
      "cell_type": "code",
      "execution_count": null,
      "id": "5417c62a",
      "metadata": {
        "id": "5417c62a"
      },
      "outputs": [],
      "source": [
        "# Calculate the duration using the start and end time (in seconds)\n",
        "tripdata[\"duration\"] = (pd.to_datetime(tripdata[\"ended_at\"]) - pd.to_datetime(tripdata[\"started_at\"])).dt.total_seconds()"
      ]
    },
    {
      "cell_type": "code",
      "execution_count": null,
      "id": "18b5f8de",
      "metadata": {
        "id": "18b5f8de",
        "outputId": "e420c1f4-0a0c-40a4-aec8-adc1c806b298"
      },
      "outputs": [
        {
          "data": {
            "text/plain": [
              "0     177.0\n",
              "1     261.0\n",
              "2     261.0\n",
              "3     896.0\n",
              "4     362.0\n",
              "5     202.0\n",
              "6     994.0\n",
              "7     724.0\n",
              "8    1527.0\n",
              "9     443.0\n",
              "Name: duration, dtype: float64"
            ]
          },
          "execution_count": 84,
          "metadata": {},
          "output_type": "execute_result"
        }
      ],
      "source": [
        "tripdata[\"duration\"].head(10)"
      ]
    },
    {
      "cell_type": "markdown",
      "id": "06b043c2",
      "metadata": {
        "id": "06b043c2"
      },
      "source": [
        "### What is the DISTANCE of the ride? - Generate `distance`"
      ]
    },
    {
      "cell_type": "markdown",
      "id": "fd0ada81",
      "metadata": {
        "id": "fd0ada81"
      },
      "source": [
        "*Note that here I use the globe distance between the starting point and the ending point. This is only a proxy of the actual distance, as the itinerary is not given.*"
      ]
    },
    {
      "cell_type": "code",
      "execution_count": null,
      "id": "d5347e83",
      "metadata": {
        "id": "d5347e83"
      },
      "outputs": [],
      "source": [
        "import numpy as np"
      ]
    },
    {
      "cell_type": "code",
      "execution_count": null,
      "id": "d12fab78",
      "metadata": {
        "id": "d12fab78"
      },
      "outputs": [],
      "source": [
        "# Define the function to calculate distance\n",
        "def haversine(lat1, lon1, lat2, lon2):\n",
        "    # Radius of Earth in kilometers\n",
        "    R = 6371.0\n",
        "\n",
        "    # Convert degrees to radians\n",
        "    lat1, lon1, lat2, lon2 = map(np.radians, [lat1, lon1, lat2, lon2])\n",
        "\n",
        "    # Differences\n",
        "    dlat = lat2 - lat1\n",
        "    dlon = lon2 - lon1\n",
        "\n",
        "    # Haversine formula\n",
        "    a = np.sin(dlat / 2)**2 + np.cos(lat1) * np.cos(lat2) * np.sin(dlon / 2)**2\n",
        "    c = 2 * np.arctan2(np.sqrt(a), np.sqrt(1 - a))\n",
        "\n",
        "    # Distance in kilometers\n",
        "    distance = R * c\n",
        "\n",
        "    return distance"
      ]
    },
    {
      "cell_type": "code",
      "execution_count": null,
      "id": "dddb0e67",
      "metadata": {
        "id": "dddb0e67"
      },
      "outputs": [],
      "source": [
        "tripdata[\"distance\"] = haversine(tripdata[\"start_lat\"],\n",
        "                                 tripdata[\"start_lng\"],\n",
        "                                 tripdata[\"end_lat\"],\n",
        "                                 tripdata[\"end_lng\"]\n",
        "                                )"
      ]
    },
    {
      "cell_type": "code",
      "execution_count": null,
      "id": "c82a3d2d",
      "metadata": {
        "id": "c82a3d2d",
        "outputId": "0f0b6203-6278-4f4c-cff1-a7285ebe46b5"
      },
      "outputs": [
        {
          "data": {
            "text/plain": [
              "0    0.699547\n",
              "1    0.694322\n",
              "2    1.000832\n",
              "3    2.462779\n",
              "4    0.814538\n",
              "5    0.846501\n",
              "6    2.988860\n",
              "7    2.118014\n",
              "8    2.768706\n",
              "9    0.959914\n",
              "Name: distance, dtype: float64"
            ]
          },
          "execution_count": 94,
          "metadata": {},
          "output_type": "execute_result"
        }
      ],
      "source": [
        "tripdata[\"distance\"].head(10)"
      ]
    },
    {
      "cell_type": "markdown",
      "id": "e8c65d77",
      "metadata": {
        "id": "e8c65d77"
      },
      "source": [
        "## Keep the necessary columns for Analysis"
      ]
    },
    {
      "cell_type": "code",
      "execution_count": null,
      "id": "b08e633c",
      "metadata": {
        "id": "b08e633c"
      },
      "outputs": [],
      "source": [
        "trip_clean = tripdata.copy().drop(columns=[\"started_at\", \"ended_at\", \"start_station_name\", \"start_station_id\",\n",
        "                             \"end_station_name\", \"end_station_id\", \"start_lat\", \"start_lng\", \"end_lat\", \"end_lng\"])"
      ]
    },
    {
      "cell_type": "code",
      "execution_count": null,
      "id": "26935a2f",
      "metadata": {
        "id": "26935a2f",
        "outputId": "891b3c81-8a2b-417f-ca16-7950fa4cdfc7"
      },
      "outputs": [
        {
          "data": {
            "text/html": [
              "<div>\n",
              "<style scoped>\n",
              "    .dataframe tbody tr th:only-of-type {\n",
              "        vertical-align: middle;\n",
              "    }\n",
              "\n",
              "    .dataframe tbody tr th {\n",
              "        vertical-align: top;\n",
              "    }\n",
              "\n",
              "    .dataframe thead th {\n",
              "        text-align: right;\n",
              "    }\n",
              "</style>\n",
              "<table border=\"1\" class=\"dataframe\">\n",
              "  <thead>\n",
              "    <tr style=\"text-align: right;\">\n",
              "      <th></th>\n",
              "      <th>ride_id</th>\n",
              "      <th>rideable_type</th>\n",
              "      <th>member_casual</th>\n",
              "      <th>day_of_week</th>\n",
              "      <th>start_hour</th>\n",
              "      <th>is_rush</th>\n",
              "      <th>month</th>\n",
              "      <th>duration</th>\n",
              "      <th>distance</th>\n",
              "    </tr>\n",
              "  </thead>\n",
              "  <tbody>\n",
              "    <tr>\n",
              "      <th>count</th>\n",
              "      <td>5661859</td>\n",
              "      <td>5661859</td>\n",
              "      <td>5661859</td>\n",
              "      <td>5661859</td>\n",
              "      <td>5.661859e+06</td>\n",
              "      <td>5.661859e+06</td>\n",
              "      <td>5.661859e+06</td>\n",
              "      <td>5.661859e+06</td>\n",
              "      <td>5.661859e+06</td>\n",
              "    </tr>\n",
              "    <tr>\n",
              "      <th>unique</th>\n",
              "      <td>5661859</td>\n",
              "      <td>3</td>\n",
              "      <td>2</td>\n",
              "      <td>7</td>\n",
              "      <td>NaN</td>\n",
              "      <td>NaN</td>\n",
              "      <td>NaN</td>\n",
              "      <td>NaN</td>\n",
              "      <td>NaN</td>\n",
              "    </tr>\n",
              "    <tr>\n",
              "      <th>top</th>\n",
              "      <td>C2F7DD78E82EC875</td>\n",
              "      <td>electric_bike</td>\n",
              "      <td>member</td>\n",
              "      <td>Saturday</td>\n",
              "      <td>NaN</td>\n",
              "      <td>NaN</td>\n",
              "      <td>NaN</td>\n",
              "      <td>NaN</td>\n",
              "      <td>NaN</td>\n",
              "    </tr>\n",
              "    <tr>\n",
              "      <th>freq</th>\n",
              "      <td>1</td>\n",
              "      <td>2889029</td>\n",
              "      <td>3344996</td>\n",
              "      <td>915263</td>\n",
              "      <td>NaN</td>\n",
              "      <td>NaN</td>\n",
              "      <td>NaN</td>\n",
              "      <td>NaN</td>\n",
              "      <td>NaN</td>\n",
              "    </tr>\n",
              "    <tr>\n",
              "      <th>mean</th>\n",
              "      <td>NaN</td>\n",
              "      <td>NaN</td>\n",
              "      <td>NaN</td>\n",
              "      <td>NaN</td>\n",
              "      <td>1.422442e+01</td>\n",
              "      <td>3.980929e-01</td>\n",
              "      <td>7.112207e+00</td>\n",
              "      <td>9.796526e+02</td>\n",
              "      <td>2.139447e+00</td>\n",
              "    </tr>\n",
              "    <tr>\n",
              "      <th>std</th>\n",
              "      <td>NaN</td>\n",
              "      <td>NaN</td>\n",
              "      <td>NaN</td>\n",
              "      <td>NaN</td>\n",
              "      <td>5.027977e+00</td>\n",
              "      <td>4.895048e-01</td>\n",
              "      <td>2.531593e+00</td>\n",
              "      <td>2.614010e+03</td>\n",
              "      <td>1.183024e+01</td>\n",
              "    </tr>\n",
              "    <tr>\n",
              "      <th>min</th>\n",
              "      <td>NaN</td>\n",
              "      <td>NaN</td>\n",
              "      <td>NaN</td>\n",
              "      <td>NaN</td>\n",
              "      <td>0.000000e+00</td>\n",
              "      <td>0.000000e+00</td>\n",
              "      <td>1.000000e+00</td>\n",
              "      <td>-6.212010e+05</td>\n",
              "      <td>0.000000e+00</td>\n",
              "    </tr>\n",
              "    <tr>\n",
              "      <th>25%</th>\n",
              "      <td>NaN</td>\n",
              "      <td>NaN</td>\n",
              "      <td>NaN</td>\n",
              "      <td>NaN</td>\n",
              "      <td>1.100000e+01</td>\n",
              "      <td>0.000000e+00</td>\n",
              "      <td>5.000000e+00</td>\n",
              "      <td>3.490000e+02</td>\n",
              "      <td>8.726518e-01</td>\n",
              "    </tr>\n",
              "    <tr>\n",
              "      <th>50%</th>\n",
              "      <td>NaN</td>\n",
              "      <td>NaN</td>\n",
              "      <td>NaN</td>\n",
              "      <td>NaN</td>\n",
              "      <td>1.500000e+01</td>\n",
              "      <td>0.000000e+00</td>\n",
              "      <td>7.000000e+00</td>\n",
              "      <td>6.160000e+02</td>\n",
              "      <td>1.574513e+00</td>\n",
              "    </tr>\n",
              "    <tr>\n",
              "      <th>75%</th>\n",
              "      <td>NaN</td>\n",
              "      <td>NaN</td>\n",
              "      <td>NaN</td>\n",
              "      <td>NaN</td>\n",
              "      <td>1.800000e+01</td>\n",
              "      <td>1.000000e+00</td>\n",
              "      <td>9.000000e+00</td>\n",
              "      <td>1.105000e+03</td>\n",
              "      <td>2.779437e+00</td>\n",
              "    </tr>\n",
              "    <tr>\n",
              "      <th>max</th>\n",
              "      <td>NaN</td>\n",
              "      <td>NaN</td>\n",
              "      <td>NaN</td>\n",
              "      <td>NaN</td>\n",
              "      <td>2.300000e+01</td>\n",
              "      <td>1.000000e+00</td>\n",
              "      <td>1.200000e+01</td>\n",
              "      <td>2.061244e+06</td>\n",
              "      <td>9.814069e+03</td>\n",
              "    </tr>\n",
              "  </tbody>\n",
              "</table>\n",
              "</div>"
            ],
            "text/plain": [
              "                 ride_id  rideable_type member_casual day_of_week  \\\n",
              "count            5661859        5661859       5661859     5661859   \n",
              "unique           5661859              3             2           7   \n",
              "top     C2F7DD78E82EC875  electric_bike        member    Saturday   \n",
              "freq                   1        2889029       3344996      915263   \n",
              "mean                 NaN            NaN           NaN         NaN   \n",
              "std                  NaN            NaN           NaN         NaN   \n",
              "min                  NaN            NaN           NaN         NaN   \n",
              "25%                  NaN            NaN           NaN         NaN   \n",
              "50%                  NaN            NaN           NaN         NaN   \n",
              "75%                  NaN            NaN           NaN         NaN   \n",
              "max                  NaN            NaN           NaN         NaN   \n",
              "\n",
              "          start_hour       is_rush         month      duration      distance  \n",
              "count   5.661859e+06  5.661859e+06  5.661859e+06  5.661859e+06  5.661859e+06  \n",
              "unique           NaN           NaN           NaN           NaN           NaN  \n",
              "top              NaN           NaN           NaN           NaN           NaN  \n",
              "freq             NaN           NaN           NaN           NaN           NaN  \n",
              "mean    1.422442e+01  3.980929e-01  7.112207e+00  9.796526e+02  2.139447e+00  \n",
              "std     5.027977e+00  4.895048e-01  2.531593e+00  2.614010e+03  1.183024e+01  \n",
              "min     0.000000e+00  0.000000e+00  1.000000e+00 -6.212010e+05  0.000000e+00  \n",
              "25%     1.100000e+01  0.000000e+00  5.000000e+00  3.490000e+02  8.726518e-01  \n",
              "50%     1.500000e+01  0.000000e+00  7.000000e+00  6.160000e+02  1.574513e+00  \n",
              "75%     1.800000e+01  1.000000e+00  9.000000e+00  1.105000e+03  2.779437e+00  \n",
              "max     2.300000e+01  1.000000e+00  1.200000e+01  2.061244e+06  9.814069e+03  "
            ]
          },
          "execution_count": 97,
          "metadata": {},
          "output_type": "execute_result"
        }
      ],
      "source": [
        "trip_clean.describe(include='all')"
      ]
    },
    {
      "cell_type": "code",
      "execution_count": null,
      "id": "d493292f",
      "metadata": {
        "id": "d493292f"
      },
      "outputs": [],
      "source": [
        "# # Output and save locally\n",
        "# trip_clean.to_csv('D:/Coursera/Google Data Analytics/08 Capstone/Data/Trip_clean.csv', index = False)"
      ]
    },
    {
      "cell_type": "markdown",
      "id": "b37a5096",
      "metadata": {
        "id": "b37a5096"
      },
      "source": [
        "# Share"
      ]
    },
    {
      "cell_type": "code",
      "execution_count": null,
      "id": "f46b2aed",
      "metadata": {
        "id": "f46b2aed"
      },
      "outputs": [],
      "source": [
        "import matplotlib.pyplot as plt\n",
        "import seaborn as sns"
      ]
    },
    {
      "cell_type": "markdown",
      "id": "599ecdbb",
      "metadata": {
        "id": "599ecdbb"
      },
      "source": [
        "## Basic Counts"
      ]
    },
    {
      "cell_type": "code",
      "execution_count": null,
      "id": "b884e13b",
      "metadata": {
        "id": "b884e13b",
        "outputId": "2ee2bc93-db08-4a46-9d02-bee3fedcb1c4"
      },
      "outputs": [
        {
          "data": {
            "image/png": "[encoded data removed]",
            "text/plain": [
              "<Figure size 720x360 with 1 Axes>"
            ]
          },
          "metadata": {
            "needs_background": "light"
          },
          "output_type": "display_data"
        }
      ],
      "source": [
        "# Count the number of trips member vs. casual\n",
        "plt.figure(figsize=(10,5))\n",
        "sns.countplot(data=trip_clean, x='member_casual')\n",
        "plt.title('Number of Trips Member vs Casual')\n",
        "plt.show()"
      ]
    },
    {
      "cell_type": "markdown",
      "id": "663734ec",
      "metadata": {
        "id": "663734ec"
      },
      "source": [
        "There are approximately 45% more trips made by members than by casual users."
      ]
    },
    {
      "cell_type": "markdown",
      "id": "1360c78c",
      "metadata": {
        "id": "1360c78c"
      },
      "source": [
        "## rideable_type"
      ]
    },
    {
      "cell_type": "code",
      "execution_count": null,
      "id": "3f3875c0",
      "metadata": {
        "id": "3f3875c0",
        "outputId": "c741078a-ebed-4ac7-8f15-95a4b4b33b06"
      },
      "outputs": [
        {
          "data": {
            "image/png": "[encoded data removed]",
            "text/plain": [
              "<Figure size 432x288 with 1 Axes>"
            ]
          },
          "metadata": {
            "needs_background": "light"
          },
          "output_type": "display_data"
        }
      ],
      "source": [
        "sns.countplot(data=trip_clean, x='rideable_type', hue='member_casual')\n",
        "plt.title('Usage by Rideable Type')\n",
        "plt.show()"
      ]
    },
    {
      "cell_type": "markdown",
      "id": "d77bdb62",
      "metadata": {
        "id": "d77bdb62"
      },
      "source": [
        "Members and casual users both tend to prefer classic and electric bikes to docked ones. But casual users use docked bike more often."
      ]
    },
    {
      "cell_type": "markdown",
      "id": "04a781ac",
      "metadata": {
        "id": "04a781ac"
      },
      "source": [
        "## day_of_week"
      ]
    },
    {
      "cell_type": "code",
      "execution_count": null,
      "id": "55825caf",
      "metadata": {
        "id": "55825caf",
        "outputId": "c5d89b6c-c4a1-4816-b0e2-6594861a1123"
      },
      "outputs": [
        {
          "data": {
            "image/png": "[encoded data removed]",
            "text/plain": [
              "<Figure size 720x360 with 1 Axes>"
            ]
          },
          "metadata": {
            "needs_background": "light"
          },
          "output_type": "display_data"
        }
      ],
      "source": [
        "# Set the order of days\n",
        "order_days = [\"Monday\", \"Tuesday\", \"Wednesday\", \"Thursday\", \"Friday\", \"Saturday\", \"Sunday\"]\n",
        "\n",
        "# Plot the usage by day of week\n",
        "plt.figure(figsize=(10,5))\n",
        "sns.countplot(data=trip_clean, x='day_of_week', hue='member_casual', order=order_days)\n",
        "plt.title('Usage by Day of Week')\n",
        "plt.show()"
      ]
    },
    {
      "cell_type": "markdown",
      "id": "d500f486",
      "metadata": {
        "id": "d500f486"
      },
      "source": [
        "Members usually take trips on weekdays, while casual users' number of trips peak on weekends."
      ]
    },
    {
      "cell_type": "markdown",
      "id": "a7a05108",
      "metadata": {
        "id": "a7a05108"
      },
      "source": [
        "## month"
      ]
    },
    {
      "cell_type": "code",
      "execution_count": null,
      "id": "2eca304e",
      "metadata": {
        "id": "2eca304e",
        "outputId": "5af520a8-222c-4dce-f13e-65057a99ccbb"
      },
      "outputs": [
        {
          "data": {
            "image/png": "[encoded data removed]",
            "text/plain": [
              "<Figure size 720x360 with 1 Axes>"
            ]
          },
          "metadata": {
            "needs_background": "light"
          },
          "output_type": "display_data"
        }
      ],
      "source": [
        "# Plot the usage by month of year\n",
        "plt.figure(figsize=(10,5))\n",
        "sns.countplot(data=trip_clean, x='month', hue='member_casual')\n",
        "plt.title('Usage by Month')\n",
        "plt.show()"
      ]
    },
    {
      "cell_type": "markdown",
      "id": "74bd345a",
      "metadata": {
        "id": "74bd345a"
      },
      "source": [
        "Casual users and members share a very similar pattern in terms of which month they ride more often. It is intuitive that both type of users ride more from May to October, which is the warmer period for the North pole."
      ]
    },
    {
      "cell_type": "markdown",
      "id": "d7ce68f8",
      "metadata": {
        "id": "d7ce68f8"
      },
      "source": [
        "However, the use of bikes for members peak in August while that of casual users peak in July."
      ]
    },
    {
      "cell_type": "markdown",
      "id": "fe21ac08",
      "metadata": {
        "id": "fe21ac08"
      },
      "source": [
        "## start_hour"
      ]
    },
    {
      "cell_type": "code",
      "execution_count": null,
      "id": "f0b8b5d3",
      "metadata": {
        "id": "f0b8b5d3",
        "outputId": "f6fb2ed5-36f3-4588-87b6-07df11a4bf89"
      },
      "outputs": [
        {
          "data": {
            "image/png": "[encoded data removed]",
            "text/plain": [
              "<Figure size 720x360 with 1 Axes>"
            ]
          },
          "metadata": {
            "needs_background": "light"
          },
          "output_type": "display_data"
        }
      ],
      "source": [
        "plt.figure(figsize=(10,5))\n",
        "sns.countplot(data=trip_clean, x='start_hour', hue='member_casual')\n",
        "plt.title('Usage by Start Hour')\n",
        "plt.show()"
      ]
    },
    {
      "cell_type": "markdown",
      "id": "e3e83490",
      "metadata": {
        "id": "e3e83490"
      },
      "source": [
        "## is_rush"
      ]
    },
    {
      "cell_type": "code",
      "execution_count": null,
      "id": "ea79780f",
      "metadata": {
        "id": "ea79780f",
        "outputId": "6dae3d8e-7bf3-447b-ddf3-08a8109e76a5"
      },
      "outputs": [
        {
          "data": {
            "image/png": "[encoded data removed]",
            "text/plain": [
              "<Figure size 432x288 with 1 Axes>"
            ]
          },
          "metadata": {
            "needs_background": "light"
          },
          "output_type": "display_data"
        }
      ],
      "source": [
        "sns.countplot(data=trip_clean, x='is_rush', hue='member_casual')\n",
        "plt.title('Usage During Rush Hour')\n",
        "plt.show()"
      ]
    },
    {
      "cell_type": "markdown",
      "id": "232eef22",
      "metadata": {
        "id": "232eef22"
      },
      "source": [
        "Almost at any given time period, there are more member use than casual use.\n",
        "\n",
        "And members use bikes more during the rush hours. The number of trips taken by casual users gradually climb during the daytime and then starts to fall around dusk."
      ]
    },
    {
      "cell_type": "markdown",
      "id": "e914b43a",
      "metadata": {
        "id": "e914b43a"
      },
      "source": [
        "## duration"
      ]
    },
    {
      "cell_type": "code",
      "execution_count": null,
      "id": "05c73355",
      "metadata": {
        "id": "05c73355",
        "outputId": "8a2559b5-6746-4327-fa79-5a41eaba9570"
      },
      "outputs": [
        {
          "data": {
            "image/png": "[encoded data removed]",
            "text/plain": [
              "<Figure size 720x360 with 1 Axes>"
            ]
          },
          "metadata": {
            "needs_background": "light"
          },
          "output_type": "display_data"
        }
      ],
      "source": [
        "plt.figure(figsize=(10, 5))\n",
        "sns.barplot(data=trip_clean, x='member_casual', y='duration')\n",
        "plt.title('Average Duration by User Type')\n",
        "plt.show()"
      ]
    },
    {
      "cell_type": "markdown",
      "id": "36e5e9e5",
      "metadata": {
        "id": "36e5e9e5"
      },
      "source": [
        "## distance"
      ]
    },
    {
      "cell_type": "code",
      "execution_count": null,
      "id": "6ea4c5be",
      "metadata": {
        "id": "6ea4c5be",
        "outputId": "f9eb76fc-9bdc-4a81-efb9-33faeb72d13e"
      },
      "outputs": [
        {
          "data": {
            "image/png": "[encoded data removed]",
            "text/plain": [
              "<Figure size 720x360 with 1 Axes>"
            ]
          },
          "metadata": {
            "needs_background": "light"
          },
          "output_type": "display_data"
        }
      ],
      "source": [
        "plt.figure(figsize=(10, 5))\n",
        "sns.barplot(data=trip_clean, x='member_casual', y='distance')\n",
        "plt.title('Average Distance by User Type')\n",
        "plt.show()"
      ]
    },
    {
      "cell_type": "markdown",
      "id": "6cbe6bea",
      "metadata": {
        "id": "6cbe6bea"
      },
      "source": [
        "Casual users take longer and farther rides than members."
      ]
    },
    {
      "cell_type": "markdown",
      "id": "17cf98a3",
      "metadata": {
        "id": "17cf98a3"
      },
      "source": [
        "# Act"
      ]
    },
    {
      "cell_type": "markdown",
      "id": "0124f3ad",
      "metadata": {
        "id": "0124f3ad"
      },
      "source": [
        "Based on the analysis above:\n",
        "\n",
        "1. the use pattern of members resembles that of workers who go to work by bicycle.\n",
        "\n",
        "2. And casual users are more likely the ones who take a bike on weekends for a ride."
      ]
    },
    {
      "cell_type": "markdown",
      "id": "29646d9b",
      "metadata": {
        "id": "29646d9b"
      },
      "source": [
        "To convert casual riders into members, I would make the following recommendations:\n",
        "\n",
        "1. Targeted Weekend Promotions:\n",
        "    - Given that casual riders tend to rent bikes more during the weekends, run targeted promotions on weekends offering discounts for longer-term membership plans.\n",
        "\n",
        "2. Seasonal Membership:\n",
        "    - Offer a seasonal membership at a lower rate that could be updated into a full membership anytime.\n",
        "\n",
        "3. Upgraded Bikes for Members only:\n",
        "    - Offer priority  to the access of new bikes to members by placing a members-only restriction on updated bikes."
      ]
    }
  ],
  "metadata": {
    "kernelspec": {
      "display_name": "Python 3 (ipykernel)",
      "language": "python",
      "name": "python3"
    },
    "language_info": {
      "codemirror_mode": {
        "name": "ipython",
        "version": 3
      },
      "file_extension": ".py",
      "mimetype": "text/x-python",
      "name": "python",
      "nbconvert_exporter": "python",
      "pygments_lexer": "ipython3",
      "version": "3.9.12"
    },
    "toc": {
      "base_numbering": 1,
      "nav_menu": {},
      "number_sections": false,
      "sideBar": true,
      "skip_h1_title": false,
      "title_cell": "Table of Contents",
      "title_sidebar": "Contents",
      "toc_cell": false,
      "toc_position": {
        "height": "calc(100% - 180px)",
        "left": "10px",
        "top": "150px",
        "width": "224.188px"
      },
      "toc_section_display": true,
      "toc_window_display": false
    },
    "colab": {
      "provenance": [],
      "include_colab_link": true
    }
  },
  "nbformat": 4,
  "nbformat_minor": 5
}